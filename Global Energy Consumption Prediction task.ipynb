# 🌍 Global Energy Consumption Prediction and Carbon Emission Forecasting

This project forecasts **primary energy consumption per capita** and **carbon dioxide emissions** for **176 countries** using **Random Forest** and **ARIMA** models. The goal is to generate data-driven insights to support the **United Nations Sustainable Development Goal 7 (Affordable and Clean Energy)**.

---

## 🧭 Objective

To predict future energy usage and forecast CO₂ emission levels, helping global stakeholders:
- Track and anticipate energy demand trends.
- Evaluate environmental impact.
- Shape sustainable energy policies using data-backed projections.

---

## 📌 Project Overview

| Component | Description |
|----------|-------------|
| 🎯 **Target Variables** | - Primary energy consumption per capita (kWh/person) <br> - CO₂ emissions (kt) |
| 📊 **Models Used** | - ARIMA (Autoregressive Integrated Moving Average) <br> - Random Forest Regressor |

---

## 🔧 Features Used

- Access to electricity (% of population)  
- Access to clean fuels for cooking  
- Renewable energy share in total final energy consumption (%)  
- Electricity from fossil fuels & nuclear (TWh)  
- Low-carbon electricity share  
- GDP per capita  
- Land Area, Latitude  
- Year  
##
